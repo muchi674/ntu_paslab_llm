{
 "cells": [
  {
   "cell_type": "code",
   "execution_count": 10,
   "metadata": {},
   "outputs": [],
   "source": [
    "import torch\n",
    "import pandas as pd"
   ]
  },
  {
   "cell_type": "code",
   "execution_count": 2,
   "metadata": {},
   "outputs": [
    {
     "name": "stderr",
     "output_type": "stream",
     "text": [
      "/tmp/ipykernel_4183777/1870126095.py:1: FutureWarning: You are using `torch.load` with `weights_only=False` (the current default value), which uses the default pickle module implicitly. It is possible to construct malicious pickle data which will execute arbitrary code during unpickling (See https://github.com/pytorch/pytorch/blob/main/SECURITY.md#untrusted-models for more details). In a future release, the default value for `weights_only` will be flipped to `True`. This limits the functions that could be executed during unpickling. Arbitrary objects will no longer be allowed to be loaded via this mode unless they are explicitly allowlisted by the user via `torch.serialization.add_safe_globals`. We recommend you start setting `weights_only=True` for any use case where you don't have full control of the loaded file. Please open an issue on GitHub for any issues related to this experimental feature.\n",
      "  experts: dict[str, torch.Tensor] = torch.load(\n"
     ]
    }
   ],
   "source": [
    "experts: dict[str, torch.Tensor] = torch.load(\n",
    "    \"/home/joe/Mixtral-8x7B-Instruct-v0.1-Official/experts.pt\",\n",
    "    map_location=torch.device(\"cpu\"),\n",
    "    mmap=True,\n",
    ")"
   ]
  },
  {
   "cell_type": "code",
   "execution_count": 56,
   "metadata": {},
   "outputs": [],
   "source": [
    "top1_avgs = torch.tensor([0.74609375, 0.7265625, 0.70703125, 0.6875, 0.69140625, 0.69140625, 0.67578125, 0.6875, 0.68359375, 0.67578125, 0.67578125, 0.7265625, 0.71875, 0.65625, 0.6875, 0.7109375, 0.6953125, 0.71875, 0.7109375, 0.7265625, 0.75, 0.75, 0.75, 0.765625, 0.765625, 0.7734375, 0.76953125, 0.78125, 0.7734375, 0.77734375, 0.7421875, 0.7109375], dtype=torch.bfloat16)\n",
    "top2_avgs = torch.tensor([0.25390625, 0.2734375, 0.29296875, 0.3125, 0.306640625, 0.30859375, 0.322265625, 0.314453125, 0.314453125, 0.32421875, 0.32421875, 0.2734375, 0.283203125, 0.34375, 0.314453125, 0.2890625, 0.302734375, 0.28125, 0.291015625, 0.2734375, 0.25, 0.25, 0.248046875, 0.2333984375, 0.232421875, 0.224609375, 0.23046875, 0.21875, 0.2275390625, 0.2236328125, 0.259765625, 0.291015625], dtype=torch.bfloat16)\n",
    "\n",
    "# top1_model_avg = 0.72216796875\n",
    "# top2_model_avg = 0.277801513671875"
   ]
  },
  {
   "cell_type": "code",
   "execution_count": 57,
   "metadata": {},
   "outputs": [
    {
     "data": {
      "text/plain": [
       "torch.Size([3, 14336, 4096])"
      ]
     },
     "execution_count": 57,
     "metadata": {},
     "output_type": "execute_result"
    }
   ],
   "source": [
    "experts[\"0.0\"].shape"
   ]
  },
  {
   "cell_type": "code",
   "execution_count": 62,
   "metadata": {},
   "outputs": [],
   "source": [
    "zeros = torch.zeros((3, 14336, 4096), dtype=torch.bfloat16)\n",
    "atol = torch.tensor(1e-3, dtype=torch.bfloat16)\n",
    "data = {\"li\": [], \"ei\": [], \"n_top1_near_zeros\": [], \"n_top2_near_zeros\": []}\n",
    "for li in range(32):\n",
    "    for ei in range(8):\n",
    "        data[\"li\"].append(li)\n",
    "        data[\"ei\"].append(ei)\n",
    "        data[\"n_top1_near_zeros\"].append(\n",
    "            torch.sum(torch.abs(experts[f\"{li}.{ei}\"] * top1_avgs[0] - zeros) <= atol).item()\n",
    "        )\n",
    "        data[\"n_top2_near_zeros\"].append(\n",
    "            torch.sum(torch.abs(experts[f\"{li}.{ei}\"] * top2_avgs[0] - zeros) <= atol).item()\n",
    "        )\n",
    "df = pd.DataFrame(data)"
   ]
  },
  {
   "cell_type": "code",
   "execution_count": 63,
   "metadata": {},
   "outputs": [
    {
     "data": {
      "text/html": [
       "<div>\n",
       "<style scoped>\n",
       "    .dataframe tbody tr th:only-of-type {\n",
       "        vertical-align: middle;\n",
       "    }\n",
       "\n",
       "    .dataframe tbody tr th {\n",
       "        vertical-align: top;\n",
       "    }\n",
       "\n",
       "    .dataframe thead th {\n",
       "        text-align: right;\n",
       "    }\n",
       "</style>\n",
       "<table border=\"1\" class=\"dataframe\">\n",
       "  <thead>\n",
       "    <tr style=\"text-align: right;\">\n",
       "      <th></th>\n",
       "      <th>li</th>\n",
       "      <th>ei</th>\n",
       "      <th>n_top1_near_zeros</th>\n",
       "      <th>n_top2_near_zeros</th>\n",
       "    </tr>\n",
       "  </thead>\n",
       "  <tbody>\n",
       "    <tr>\n",
       "      <th>248</th>\n",
       "      <td>31</td>\n",
       "      <td>0</td>\n",
       "      <td>16404463</td>\n",
       "      <td>47239825</td>\n",
       "    </tr>\n",
       "    <tr>\n",
       "      <th>249</th>\n",
       "      <td>31</td>\n",
       "      <td>1</td>\n",
       "      <td>16668262</td>\n",
       "      <td>47992534</td>\n",
       "    </tr>\n",
       "    <tr>\n",
       "      <th>250</th>\n",
       "      <td>31</td>\n",
       "      <td>2</td>\n",
       "      <td>16618805</td>\n",
       "      <td>47832778</td>\n",
       "    </tr>\n",
       "    <tr>\n",
       "      <th>251</th>\n",
       "      <td>31</td>\n",
       "      <td>3</td>\n",
       "      <td>16955733</td>\n",
       "      <td>48762326</td>\n",
       "    </tr>\n",
       "    <tr>\n",
       "      <th>252</th>\n",
       "      <td>31</td>\n",
       "      <td>4</td>\n",
       "      <td>16215568</td>\n",
       "      <td>46720979</td>\n",
       "    </tr>\n",
       "    <tr>\n",
       "      <th>253</th>\n",
       "      <td>31</td>\n",
       "      <td>5</td>\n",
       "      <td>16617187</td>\n",
       "      <td>47857686</td>\n",
       "    </tr>\n",
       "    <tr>\n",
       "      <th>254</th>\n",
       "      <td>31</td>\n",
       "      <td>6</td>\n",
       "      <td>17078780</td>\n",
       "      <td>49127317</td>\n",
       "    </tr>\n",
       "    <tr>\n",
       "      <th>255</th>\n",
       "      <td>31</td>\n",
       "      <td>7</td>\n",
       "      <td>16300763</td>\n",
       "      <td>46969800</td>\n",
       "    </tr>\n",
       "  </tbody>\n",
       "</table>\n",
       "</div>"
      ],
      "text/plain": [
       "     li  ei  n_top1_near_zeros  n_top2_near_zeros\n",
       "248  31   0           16404463           47239825\n",
       "249  31   1           16668262           47992534\n",
       "250  31   2           16618805           47832778\n",
       "251  31   3           16955733           48762326\n",
       "252  31   4           16215568           46720979\n",
       "253  31   5           16617187           47857686\n",
       "254  31   6           17078780           49127317\n",
       "255  31   7           16300763           46969800"
      ]
     },
     "execution_count": 63,
     "metadata": {},
     "output_type": "execute_result"
    }
   ],
   "source": [
    "df[df[\"li\"] == 31]"
   ]
  },
  {
   "cell_type": "code",
   "execution_count": 65,
   "metadata": {},
   "outputs": [
    {
     "data": {
      "text/plain": [
       "0.09312211331867036"
      ]
     },
     "execution_count": 65,
     "metadata": {},
     "output_type": "execute_result"
    }
   ],
   "source": [
    "16404463/(3*14336*4096)"
   ]
  },
  {
   "cell_type": "code",
   "execution_count": 67,
   "metadata": {},
   "outputs": [
    {
     "data": {
      "text/plain": [
       "0.8300000000000001"
      ]
     },
     "execution_count": 67,
     "metadata": {},
     "output_type": "execute_result"
    }
   ],
   "source": [
    "(0.91+0.75)/2"
   ]
  },
  {
   "cell_type": "code",
   "execution_count": null,
   "metadata": {},
   "outputs": [],
   "source": []
  }
 ],
 "metadata": {
  "kernelspec": {
   "display_name": "mixtral",
   "language": "python",
   "name": "python3"
  },
  "language_info": {
   "codemirror_mode": {
    "name": "ipython",
    "version": 3
   },
   "file_extension": ".py",
   "mimetype": "text/x-python",
   "name": "python",
   "nbconvert_exporter": "python",
   "pygments_lexer": "ipython3",
   "version": "3.10.14"
  }
 },
 "nbformat": 4,
 "nbformat_minor": 2
}
